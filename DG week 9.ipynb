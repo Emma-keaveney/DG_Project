{
 "cells": [
  {
   "cell_type": "markdown",
   "id": "37d9b541",
   "metadata": {},
   "source": [
    "Now we will look at replacing some of the numerical values that are missing, using WOE and median/mean"
   ]
  },
  {
   "cell_type": "code",
   "execution_count": 10,
   "id": "c82d3fb4",
   "metadata": {},
   "outputs": [],
   "source": [
    "import pandas as pd\n",
    "import numpy as np"
   ]
  },
  {
   "cell_type": "code",
   "execution_count": 11,
   "id": "63efd45d",
   "metadata": {
    "scrolled": true
   },
   "outputs": [
    {
     "name": "stderr",
     "output_type": "stream",
     "text": [
      "C:\\Users\\emmak\\AppData\\Local\\Temp\\ipykernel_19504\\2780563573.py:1: DtypeWarning: Columns (15) have mixed types. Specify dtype option on import or set low_memory=False.\n",
      "  data = pd.read_csv('Test.csv')\n"
     ]
    }
   ],
   "source": [
    "data = pd.read_csv('Test.csv')"
   ]
  },
  {
   "cell_type": "code",
   "execution_count": 12,
   "id": "53de3641",
   "metadata": {},
   "outputs": [],
   "source": [
    "#renaming columns so easier to understand\n",
    "data.rename(columns={\n",
    "    'fecha_dato': 'date',\n",
    "    'ncodpers': 'customer code',\n",
    "    'ind_empleado': 'employee index',\n",
    "    'pais_residencia': 'country',\n",
    "    'sexo': 'sex',\n",
    "    'fecha_alta': 'contract date',\n",
    "    'ind_nuevo': 'customer index',\n",
    "    'antiguedad': 'customer seniority',\n",
    "}, inplace=True)"
   ]
  },
  {
   "cell_type": "code",
   "execution_count": 32,
   "id": "2fdda0eb",
   "metadata": {},
   "outputs": [
    {
     "name": "stdout",
     "output_type": "stream",
     "text": [
      "<class 'pandas.core.frame.DataFrame'>\n",
      "RangeIndex: 929615 entries, 0 to 929614\n",
      "Data columns (total 24 columns):\n",
      " #   Column                 Non-Null Count   Dtype  \n",
      "---  ------                 --------------   -----  \n",
      " 0   date                   929615 non-null  object \n",
      " 1   customer code          929615 non-null  int64  \n",
      " 2   employee index         929615 non-null  object \n",
      " 3   country                929615 non-null  object \n",
      " 4   sex                    929610 non-null  object \n",
      " 5   age                    929615 non-null  int64  \n",
      " 6   contract date          929615 non-null  object \n",
      " 7   customer index         929615 non-null  int64  \n",
      " 8   customer seniority     929615 non-null  int64  \n",
      " 9   indrel                 929615 non-null  int64  \n",
      " 10  ult_fec_cli_1t         1683 non-null    object \n",
      " 11  indrel_1mes            929592 non-null  float64\n",
      " 12  tiprel_1mes            929592 non-null  object \n",
      " 13  indresi                929615 non-null  object \n",
      " 14  indext                 929615 non-null  object \n",
      " 15  conyuemp               104 non-null     object \n",
      " 16  canal_entrada          927534 non-null  object \n",
      " 17  indfall                929615 non-null  object \n",
      " 18  tipodom                929615 non-null  int64  \n",
      " 19  cod_prov               925619 non-null  float64\n",
      " 20  nomprov                925619 non-null  object \n",
      " 21  ind_actividad_cliente  929615 non-null  int64  \n",
      " 22  renta                  929615 non-null  object \n",
      " 23  segmento               927367 non-null  object \n",
      "dtypes: float64(2), int64(7), object(15)\n",
      "memory usage: 170.2+ MB\n"
     ]
    },
    {
     "data": {
      "text/html": [
       "<div>\n",
       "<style scoped>\n",
       "    .dataframe tbody tr th:only-of-type {\n",
       "        vertical-align: middle;\n",
       "    }\n",
       "\n",
       "    .dataframe tbody tr th {\n",
       "        vertical-align: top;\n",
       "    }\n",
       "\n",
       "    .dataframe thead th {\n",
       "        text-align: right;\n",
       "    }\n",
       "</style>\n",
       "<table border=\"1\" class=\"dataframe\">\n",
       "  <thead>\n",
       "    <tr style=\"text-align: right;\">\n",
       "      <th></th>\n",
       "      <th>customer code</th>\n",
       "      <th>age</th>\n",
       "      <th>customer index</th>\n",
       "      <th>customer seniority</th>\n",
       "      <th>indrel</th>\n",
       "      <th>indrel_1mes</th>\n",
       "      <th>tipodom</th>\n",
       "      <th>cod_prov</th>\n",
       "      <th>ind_actividad_cliente</th>\n",
       "    </tr>\n",
       "  </thead>\n",
       "  <tbody>\n",
       "    <tr>\n",
       "      <th>count</th>\n",
       "      <td>9.296150e+05</td>\n",
       "      <td>929615.000000</td>\n",
       "      <td>929615.0</td>\n",
       "      <td>929615.000000</td>\n",
       "      <td>929615.000000</td>\n",
       "      <td>929592.000000</td>\n",
       "      <td>929615.0</td>\n",
       "      <td>925619.000000</td>\n",
       "      <td>929615.000000</td>\n",
       "    </tr>\n",
       "    <tr>\n",
       "      <th>mean</th>\n",
       "      <td>8.794566e+05</td>\n",
       "      <td>40.249591</td>\n",
       "      <td>0.0</td>\n",
       "      <td>77.728413</td>\n",
       "      <td>1.177422</td>\n",
       "      <td>1.000058</td>\n",
       "      <td>1.0</td>\n",
       "      <td>26.546150</td>\n",
       "      <td>0.425272</td>\n",
       "    </tr>\n",
       "    <tr>\n",
       "      <th>std</th>\n",
       "      <td>4.481569e+05</td>\n",
       "      <td>17.184405</td>\n",
       "      <td>0.0</td>\n",
       "      <td>1797.824518</td>\n",
       "      <td>4.166039</td>\n",
       "      <td>0.010779</td>\n",
       "      <td>0.0</td>\n",
       "      <td>12.836614</td>\n",
       "      <td>0.494384</td>\n",
       "    </tr>\n",
       "    <tr>\n",
       "      <th>min</th>\n",
       "      <td>1.588900e+04</td>\n",
       "      <td>2.000000</td>\n",
       "      <td>0.0</td>\n",
       "      <td>-999999.000000</td>\n",
       "      <td>1.000000</td>\n",
       "      <td>1.000000</td>\n",
       "      <td>1.0</td>\n",
       "      <td>1.000000</td>\n",
       "      <td>0.000000</td>\n",
       "    </tr>\n",
       "    <tr>\n",
       "      <th>25%</th>\n",
       "      <td>4.833615e+05</td>\n",
       "      <td>25.000000</td>\n",
       "      <td>0.0</td>\n",
       "      <td>23.000000</td>\n",
       "      <td>1.000000</td>\n",
       "      <td>1.000000</td>\n",
       "      <td>1.0</td>\n",
       "      <td>15.000000</td>\n",
       "      <td>0.000000</td>\n",
       "    </tr>\n",
       "    <tr>\n",
       "      <th>50%</th>\n",
       "      <td>9.664250e+05</td>\n",
       "      <td>39.000000</td>\n",
       "      <td>0.0</td>\n",
       "      <td>55.000000</td>\n",
       "      <td>1.000000</td>\n",
       "      <td>1.000000</td>\n",
       "      <td>1.0</td>\n",
       "      <td>28.000000</td>\n",
       "      <td>0.000000</td>\n",
       "    </tr>\n",
       "    <tr>\n",
       "      <th>75%</th>\n",
       "      <td>1.264316e+06</td>\n",
       "      <td>51.000000</td>\n",
       "      <td>0.0</td>\n",
       "      <td>136.000000</td>\n",
       "      <td>1.000000</td>\n",
       "      <td>1.000000</td>\n",
       "      <td>1.0</td>\n",
       "      <td>35.000000</td>\n",
       "      <td>1.000000</td>\n",
       "    </tr>\n",
       "    <tr>\n",
       "      <th>max</th>\n",
       "      <td>1.553689e+06</td>\n",
       "      <td>118.000000</td>\n",
       "      <td>0.0</td>\n",
       "      <td>257.000000</td>\n",
       "      <td>99.000000</td>\n",
       "      <td>3.000000</td>\n",
       "      <td>1.0</td>\n",
       "      <td>52.000000</td>\n",
       "      <td>1.000000</td>\n",
       "    </tr>\n",
       "  </tbody>\n",
       "</table>\n",
       "</div>"
      ],
      "text/plain": [
       "       customer code            age  customer index  customer seniority  \\\n",
       "count   9.296150e+05  929615.000000        929615.0       929615.000000   \n",
       "mean    8.794566e+05      40.249591             0.0           77.728413   \n",
       "std     4.481569e+05      17.184405             0.0         1797.824518   \n",
       "min     1.588900e+04       2.000000             0.0      -999999.000000   \n",
       "25%     4.833615e+05      25.000000             0.0           23.000000   \n",
       "50%     9.664250e+05      39.000000             0.0           55.000000   \n",
       "75%     1.264316e+06      51.000000             0.0          136.000000   \n",
       "max     1.553689e+06     118.000000             0.0          257.000000   \n",
       "\n",
       "              indrel    indrel_1mes   tipodom       cod_prov  \\\n",
       "count  929615.000000  929592.000000  929615.0  925619.000000   \n",
       "mean        1.177422       1.000058       1.0      26.546150   \n",
       "std         4.166039       0.010779       0.0      12.836614   \n",
       "min         1.000000       1.000000       1.0       1.000000   \n",
       "25%         1.000000       1.000000       1.0      15.000000   \n",
       "50%         1.000000       1.000000       1.0      28.000000   \n",
       "75%         1.000000       1.000000       1.0      35.000000   \n",
       "max        99.000000       3.000000       1.0      52.000000   \n",
       "\n",
       "       ind_actividad_cliente  \n",
       "count          929615.000000  \n",
       "mean                0.425272  \n",
       "std                 0.494384  \n",
       "min                 0.000000  \n",
       "25%                 0.000000  \n",
       "50%                 0.000000  \n",
       "75%                 1.000000  \n",
       "max                 1.000000  "
      ]
     },
     "execution_count": 32,
     "metadata": {},
     "output_type": "execute_result"
    }
   ],
   "source": [
    "#look for outliers\n",
    "data.info()   #look at data frame\n",
    "data.describe()   #have a look at mean, medians and quartiles to see if the data is skewed or if there are any outliers\n",
    "\n",
    "#from .describe() we can see that there appears to be an outlier in age as the maximum age is 164 which can't be right"
   ]
  },
  {
   "cell_type": "code",
   "execution_count": 14,
   "id": "9c32f12b",
   "metadata": {},
   "outputs": [],
   "source": [
    "# for age use median imputation\n",
    "\n",
    "valid_values = range(0,120)   #age range, set limit to 120 as likely no one older than that\n",
    "\n",
    "median_value = data['age'].median()     #using median as less sensitive to outliers than mean\n",
    "\n",
    "for i, value in enumerate(data['age']):\n",
    "    if value not in valid_values:\n",
    "        data.at[i, 'indfall'] = 'N'   #mistakenly put as not deceased\n",
    "        data.at[i, 'age'] = median_value  #for unknown"
   ]
  },
  {
   "cell_type": "code",
   "execution_count": 24,
   "id": "377053e8",
   "metadata": {},
   "outputs": [],
   "source": [
    "#for customer seniority again use median imputation\n",
    "\n",
    "median_value = data['customer index'].median() \n",
    "standard_deviation = np.std(data['customer index'])\n",
    "\n",
    "valid_values = range(int(median_value -3*standard_deviation), int(median_value + 3*standard_deviation) )\n",
    "\n",
    "for i, value in enumerate(data['customer index']):\n",
    "    if value not in valid_values:\n",
    "        data.at[i, 'customer index'] = median_value  #for unknown"
   ]
  },
  {
   "cell_type": "code",
   "execution_count": 25,
   "id": "dc621d8a",
   "metadata": {},
   "outputs": [],
   "source": [
    "#for cod_prov use multiple imputation"
   ]
  },
  {
   "cell_type": "markdown",
   "id": "e7b72b54",
   "metadata": {},
   "source": [
    "pip install miceforest"
   ]
  },
  {
   "cell_type": "code",
   "execution_count": 27,
   "id": "257b2137",
   "metadata": {},
   "outputs": [],
   "source": [
    "from miceforest import ImputationKernel"
   ]
  },
  {
   "cell_type": "code",
   "execution_count": null,
   "id": "12ecad4f",
   "metadata": {},
   "outputs": [],
   "source": [
    "mice_kernel = ImputationKernel(\n",
    "data['cod_prov'],\n",
    "save_all_iterations = True,\n",
    "random_state = 2023\n",
    ")"
   ]
  },
  {
   "cell_type": "code",
   "execution_count": null,
   "id": "a345d273",
   "metadata": {},
   "outputs": [],
   "source": [
    "mice_kernel.mice(2)\n",
    "mice_imputation = mice_kernel.complete_data()\n",
    "mice_imputation.head()"
   ]
  },
  {
   "cell_type": "code",
   "execution_count": 35,
   "id": "dfa94248",
   "metadata": {},
   "outputs": [],
   "source": [
    "#looking at WOE for deceased\n",
    "\n",
    "goods = 0             #good if employee not dead\n",
    "valid_values = ['S']\n",
    "for i, value in enumerate(data['employee index']):\n",
    "    if value not in valid_values:\n",
    "        goods +=1\n",
    "\n",
    "bads = 0                 #bad if employee dead\n",
    "valid_values = ['N']\n",
    "for i, value in enumerate(data['employee index']):\n",
    "    if value not in valid_values:\n",
    "        bads +=1      "
   ]
  },
  {
   "cell_type": "code",
   "execution_count": 40,
   "id": "99d6dd2c",
   "metadata": {},
   "outputs": [],
   "source": [
    "WOE = np.log(bads/goods)"
   ]
  },
  {
   "cell_type": "code",
   "execution_count": 41,
   "id": "e83d2497",
   "metadata": {},
   "outputs": [
    {
     "data": {
      "text/plain": [
       "-7.490620842041455"
      ]
     },
     "execution_count": 41,
     "metadata": {},
     "output_type": "execute_result"
    }
   ],
   "source": [
    "WOE    #WOE is -7.5 for deceased vs non-deceased "
   ]
  },
  {
   "cell_type": "code",
   "execution_count": 44,
   "id": "6ddc0405",
   "metadata": {},
   "outputs": [],
   "source": [
    "percent_good = 100*goods/(goods+bads)\n",
    "percent_bad = 100*bads/(goods+bads)\n",
    "\n",
    "i_v = (percent_bad - percent_good)*WOE"
   ]
  },
  {
   "cell_type": "code",
   "execution_count": 45,
   "id": "4204f411",
   "metadata": {},
   "outputs": [
    {
     "data": {
      "text/plain": [
       "748.226153812036"
      ]
     },
     "execution_count": 45,
     "metadata": {},
     "output_type": "execute_result"
    }
   ],
   "source": [
    "i_v\n",
    "\n",
    "#information value is 748,suspicious relationship"
   ]
  }
 ],
 "metadata": {
  "kernelspec": {
   "display_name": "Python 3 (ipykernel)",
   "language": "python",
   "name": "python3"
  },
  "language_info": {
   "codemirror_mode": {
    "name": "ipython",
    "version": 3
   },
   "file_extension": ".py",
   "mimetype": "text/x-python",
   "name": "python",
   "nbconvert_exporter": "python",
   "pygments_lexer": "ipython3",
   "version": "3.11.3"
  }
 },
 "nbformat": 4,
 "nbformat_minor": 5
}
